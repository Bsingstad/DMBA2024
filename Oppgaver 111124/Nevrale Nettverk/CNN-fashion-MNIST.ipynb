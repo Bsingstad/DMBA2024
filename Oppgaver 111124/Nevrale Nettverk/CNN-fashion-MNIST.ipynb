{
 "cells": [
  {
   "cell_type": "code",
   "execution_count": 13,
   "id": "ff62fff7",
   "metadata": {},
   "outputs": [],
   "source": [
    "import tensorflow as tf\n",
    "import matplotlib.pyplot as plt\n",
    "import numpy as np\n",
    "import pandas as pd\n",
    "from sklearn.model_selection import  train_test_split \n",
    "from sklearn.datasets import load_breast_cancer\n",
    "import math\n",
    "from tensorflow.keras.utils import to_categorical"
   ]
  },
  {
   "cell_type": "code",
   "execution_count": 14,
   "id": "3f145944",
   "metadata": {},
   "outputs": [],
   "source": [
    "dev_data = pd.read_csv(\"fashion-mnist_train.csv\")"
   ]
  },
  {
   "cell_type": "code",
   "execution_count": 15,
   "id": "4864df1d",
   "metadata": {},
   "outputs": [],
   "source": [
    "y_dev = dev_data[\"label\"]"
   ]
  },
  {
   "cell_type": "code",
   "execution_count": 16,
   "id": "93bbca88",
   "metadata": {},
   "outputs": [],
   "source": [
    "X_dev = dev_data.iloc[:,1:]"
   ]
  },
  {
   "cell_type": "code",
   "execution_count": 17,
   "id": "2d4b061c",
   "metadata": {},
   "outputs": [],
   "source": [
    "X_train, X_val, y_train, y_val = train_test_split(X_dev,y_dev, test_size=0.2)"
   ]
  },
  {
   "cell_type": "code",
   "execution_count": 18,
   "id": "e87faa37",
   "metadata": {},
   "outputs": [],
   "source": [
    "X_train = np.asarray(X_train)"
   ]
  },
  {
   "cell_type": "code",
   "execution_count": 19,
   "id": "aded831e",
   "metadata": {},
   "outputs": [],
   "source": [
    "X_val = np.asarray(X_val)"
   ]
  },
  {
   "cell_type": "code",
   "execution_count": 20,
   "id": "6cdc8145",
   "metadata": {},
   "outputs": [],
   "source": [
    "X_train = X_train.reshape(X_train.shape[0],int(math.sqrt(X_train.shape[1])),int(math.sqrt(X_train.shape[1])))"
   ]
  },
  {
   "cell_type": "code",
   "execution_count": 21,
   "id": "617ccb6a",
   "metadata": {},
   "outputs": [],
   "source": [
    "X_val = X_val.reshape(X_val.shape[0],int(math.sqrt(X_val.shape[1])),int(math.sqrt(X_val.shape[1])))"
   ]
  },
  {
   "cell_type": "code",
   "execution_count": 108,
   "id": "56705c74",
   "metadata": {},
   "outputs": [],
   "source": [
    "y_train = to_categorical(y_train, num_classes=10)\n",
    "y_val = to_categorical(y_val, num_classes=10)"
   ]
  },
  {
   "cell_type": "code",
   "execution_count": null,
   "id": "9f1faa5a",
   "metadata": {},
   "outputs": [],
   "source": [
    "#TODO: initialiser og tren et konvolusjonelt nevralt nettverk her vha Tensorflow eller PyTorch"
   ]
  },
  {
   "cell_type": "code",
   "execution_count": 111,
   "id": "8a62e589",
   "metadata": {},
   "outputs": [],
   "source": [
    "test_data = pd.read_csv(\"fashion-mnist_test.csv\")"
   ]
  },
  {
   "cell_type": "code",
   "execution_count": null,
   "id": "f6391e16",
   "metadata": {},
   "outputs": [],
   "source": [
    "#TODO: Evaluer på testsettet"
   ]
  }
 ],
 "metadata": {
  "kernelspec": {
   "display_name": "Python 3 (ipykernel)",
   "language": "python",
   "name": "python3"
  },
  "language_info": {
   "codemirror_mode": {
    "name": "ipython",
    "version": 3
   },
   "file_extension": ".py",
   "mimetype": "text/x-python",
   "name": "python",
   "nbconvert_exporter": "python",
   "pygments_lexer": "ipython3",
   "version": "3.9.12"
  }
 },
 "nbformat": 4,
 "nbformat_minor": 5
}
