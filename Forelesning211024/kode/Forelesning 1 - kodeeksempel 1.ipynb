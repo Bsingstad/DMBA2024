{
 "cells": [
  {
   "cell_type": "markdown",
   "id": "3137f2ab",
   "metadata": {},
   "source": [
    "# Lineær regresjon - én variabel"
   ]
  },
  {
   "cell_type": "markdown",
   "id": "bc6f9c8c",
   "metadata": {},
   "source": [
    "Matematisk, kan vi beskrive datasettet vårt på følgende måte"
   ]
  },
  {
   "cell_type": "markdown",
   "id": "a0f046d6",
   "metadata": {},
   "source": [
    "$$\n",
    "\\begin{align*}\n",
    "y_0&=\\beta_0+\\beta_1x_0+\\epsilon_0\\\\\n",
    "y_1&=\\beta_0+\\beta_1x_1+\\epsilon_1\\\\\n",
    "y_2&=\\beta_0+\\beta_1x_2+\\epsilon_2\\\\\n",
    "\\dots & \\dots \\\\\n",
    "y_{n-1}&=\\beta_0+\\beta_1x_{n-1}+\\epsilon_{n-1}.\\\\\n",
    "\\end{align*}\n",
    "$$"
   ]
  },
  {
   "cell_type": "markdown",
   "id": "5c613027",
   "metadata": {},
   "source": [
    "Når vi kun har én variabel får vi en matrise på formen"
   ]
  },
  {
   "cell_type": "markdown",
   "id": "58c9da65",
   "metadata": {},
   "source": [
    "$$\n",
    "\\boldsymbol{X}=\n",
    "\\begin{bmatrix} \n",
    "1& x_{0} \\\\\n",
    "1& x_{1} \\\\\n",
    "1& x_{2} \\\\                      \n",
    "\\dots& \\dots \\\\\n",
    "1& x_{n-1} \\\\\n",
    "\\end{bmatrix}\n",
    "$$"
   ]
  },
  {
   "cell_type": "markdown",
   "id": "8905584f",
   "metadata": {},
   "source": [
    "Med $n$ antall observasjoner"
   ]
  },
  {
   "cell_type": "markdown",
   "id": "6f1aa68e",
   "metadata": {},
   "source": [
    "Målet vårt nå er å finne $\\boldsymbol{\\beta}$-ene våre "
   ]
  },
  {
   "cell_type": "markdown",
   "id": "9257a77c",
   "metadata": {},
   "source": [
    "$$\n",
    "\\boldsymbol{\\beta} = [\\beta_0, \\beta_1]^T\n",
    "$$"
   ]
  },
  {
   "cell_type": "markdown",
   "id": "6bfb03cd",
   "metadata": {},
   "source": [
    "For å tilpasse oss \"target\" $\\boldsymbol{y}$ "
   ]
  },
  {
   "cell_type": "markdown",
   "id": "31c06881",
   "metadata": {},
   "source": [
    "$$\n",
    "\\boldsymbol{y} = [y_0,y_1, y_2,\\dots, y_{n-1}]^T,\n",
    "$$"
   ]
  },
  {
   "cell_type": "markdown",
   "id": "c31a3e9c",
   "metadata": {},
   "source": [
    "Dette skrive på følgende måte"
   ]
  },
  {
   "cell_type": "markdown",
   "id": "1589cc94",
   "metadata": {},
   "source": [
    "$$\n",
    "\\boldsymbol{y} = \\boldsymbol{X}\\boldsymbol{\\beta}+\\boldsymbol{\\epsilon}.\n",
    "$$"
   ]
  },
  {
   "cell_type": "markdown",
   "id": "2620e060",
   "metadata": {},
   "source": [
    "Vår målfunksjon i denne sammenhengen vil være OLS og den kan beskrives på følgende måte"
   ]
  },
  {
   "cell_type": "markdown",
   "id": "6d0c83d1",
   "metadata": {},
   "source": [
    "$$\n",
    "\\boldsymbol{\\beta} =\\left(\\boldsymbol{X}^T\\boldsymbol{X}\\right)^{-1}\\boldsymbol{X}^T\\boldsymbol{y}.\n",
    "$$"
   ]
  },
  {
   "cell_type": "code",
   "execution_count": 16,
   "id": "b053b2e2",
   "metadata": {},
   "outputs": [],
   "source": [
    "%matplotlib inline\n",
    "\n",
    "# Importerer forskjellige pakker\n",
    "import numpy as np\n",
    "import matplotlib.pyplot as plt\n",
    "from sklearn.linear_model import LinearRegression"
   ]
  },
  {
   "cell_type": "code",
   "execution_count": 17,
   "id": "a29f77ec",
   "metadata": {},
   "outputs": [],
   "source": [
    "class my_ols():\n",
    "    def __init__(self):\n",
    "        self.beta = None\n",
    "    \n",
    "    def fit(self,x,y,size):\n",
    "        X = np.c_[np.ones(size),x]\n",
    "        self.beta=np.linalg.inv(X.T.dot(X)).dot(X.T).dot(y)\n",
    "        print(\"Model successfully trained\")\n",
    "    \n",
    "    def predict(self,x):\n",
    "        y_hat = self.beta[0]+self.beta[1] * x\n",
    "        return y_hat    "
   ]
  },
  {
   "cell_type": "code",
   "execution_count": 18,
   "id": "f2b6ee5c",
   "metadata": {},
   "outputs": [],
   "source": [
    "# Lager noen syntetiske data \n",
    "x = np.random.rand(250,1)\n",
    "y = 4*x+np.random.randn(250,1)"
   ]
  },
  {
   "cell_type": "code",
   "execution_count": 19,
   "id": "4ed96140",
   "metadata": {},
   "outputs": [
    {
     "data": {
      "image/png": "[encoded data removed]",
      "text/plain": [
       "<Figure size 432x288 with 1 Axes>"
      ]
     },
     "metadata": {
      "needs_background": "light"
     },
     "output_type": "display_data"
    }
   ],
   "source": [
    "plt.hist(y)\n",
    "plt.ylabel(r'Antall')\n",
    "plt.xlabel(r'y')\n",
    "plt.show()"
   ]
  },
  {
   "cell_type": "code",
   "execution_count": 20,
   "id": "f1e35186",
   "metadata": {},
   "outputs": [],
   "source": [
    "model = my_ols()"
   ]
  },
  {
   "cell_type": "code",
   "execution_count": 21,
   "id": "d6fef452",
   "metadata": {},
   "outputs": [
    {
     "name": "stdout",
     "output_type": "stream",
     "text": [
      "Model successfully trained\n"
     ]
    }
   ],
   "source": [
    "model.fit(x,y,len(x))"
   ]
  },
  {
   "cell_type": "markdown",
   "id": "1d3e6961",
   "metadata": {},
   "source": [
    "Generer data for å tegne linjen som tilsvarer modellen vår"
   ]
  },
  {
   "cell_type": "code",
   "execution_count": 22,
   "id": "50ef49b7",
   "metadata": {},
   "outputs": [],
   "source": [
    "x_new = np.linspace(0,1,10)"
   ]
  },
  {
   "cell_type": "code",
   "execution_count": 24,
   "id": "08bb4c36",
   "metadata": {},
   "outputs": [],
   "source": [
    "y_hat_new_ols = model.predict(x_new)"
   ]
  },
  {
   "cell_type": "code",
   "execution_count": 28,
   "id": "e0f521e3",
   "metadata": {},
   "outputs": [
    {
     "data": {
      "image/png": "[encoded data removed]",
      "text/plain": [
       "<Figure size 432x288 with 1 Axes>"
      ]
     },
     "metadata": {
      "needs_background": "light"
     },
     "output_type": "display_data"
    }
   ],
   "source": [
    "#x_ols, y_ols = OLS(x,y, len(x))\n",
    "\n",
    "plt.plot(x_new, y_hat_new_ols, \"C0-\")\n",
    "plt.plot(x, y ,'C1o')\n",
    "plt.axis([0,1.0,0, 5.0])\n",
    "plt.xlabel(r'$x$')\n",
    "plt.ylabel(r'$y$')\n",
    "plt.ylim(-2,5)\n",
    "plt.title(r'Enkel Linær Regresjon')\n",
    "plt.show()"
   ]
  },
  {
   "cell_type": "markdown",
   "id": "339a850d",
   "metadata": {},
   "source": [
    "Det samme ved bruk av SciKit-Learn"
   ]
  },
  {
   "cell_type": "code",
   "execution_count": 29,
   "id": "47d30cfc",
   "metadata": {},
   "outputs": [
    {
     "data": {
      "image/png": "[encoded data removed]",
      "text/plain": [
       "<Figure size 432x288 with 1 Axes>"
      ]
     },
     "metadata": {
      "needs_background": "light"
     },
     "output_type": "display_data"
    }
   ],
   "source": [
    "linreg = LinearRegression()\n",
    "linreg.fit(x,y)\n",
    "#y_hat_new_sk = linreg.predict(x_new)\n",
    "y_hat_new_sk = linreg.predict(np.expand_dims(x_new,1))\n",
    "\n",
    "plt.plot(x_new, y_hat_new_sk, \"C0-\")\n",
    "plt.plot(x, y ,'C1o')\n",
    "plt.axis([0,1.0,0, 5.0])\n",
    "plt.xlabel(r'$x$')\n",
    "plt.ylabel(r'$y$')\n",
    "plt.ylim(-2,5)\n",
    "plt.title(r'Enkel Linær Regresjon')\n",
    "plt.show()"
   ]
  },
  {
   "cell_type": "code",
   "execution_count": 30,
   "id": "8649bd94",
   "metadata": {},
   "outputs": [
    {
     "name": "stdout",
     "output_type": "stream",
     "text": [
      "beta_0 =  0.20826760895914687\n",
      "beta_1 =  3.6648856185801644\n"
     ]
    }
   ],
   "source": [
    "print(\"beta_0 = \", linreg.intercept_[0])\n",
    "print(\"beta_1 = \", linreg.coef_[0][0])"
   ]
  },
  {
   "cell_type": "markdown",
   "id": "b0745fde",
   "metadata": {},
   "source": [
    "$\\boldsymbol{\\beta}$-ene er nå vår modell og vi kan bruke de til å gjøre prediksjoner på nye data. \n",
    "\n",
    "La oss f.eks prøve med x = 0.9"
   ]
  },
  {
   "cell_type": "code",
   "execution_count": 31,
   "id": "bbe0f295",
   "metadata": {},
   "outputs": [],
   "source": [
    "x_new_2 = 0.9"
   ]
  },
  {
   "cell_type": "code",
   "execution_count": 32,
   "id": "49d17cb8",
   "metadata": {},
   "outputs": [
    {
     "data": {
      "text/plain": [
       "3.5066646656812948"
      ]
     },
     "execution_count": 32,
     "metadata": {},
     "output_type": "execute_result"
    }
   ],
   "source": [
    "y_hat_new_2 = linreg.intercept_[0] + linreg.coef_[0][0]*x_new_2\n",
    "y_hat_new_2"
   ]
  },
  {
   "cell_type": "code",
   "execution_count": 33,
   "id": "e1679188",
   "metadata": {},
   "outputs": [
    {
     "data": {
      "image/png": "[encoded data removed]",
      "text/plain": [
       "<Figure size 432x288 with 1 Axes>"
      ]
     },
     "metadata": {
      "needs_background": "light"
     },
     "output_type": "display_data"
    }
   ],
   "source": [
    "plt.plot(x_new, y_hat_new_sk, \"C0-\")\n",
    "plt.scatter(x_new_2,y_hat_new_2, color= \"C1\")\n",
    "plt.axis([0,1.0,0, 5.0])\n",
    "plt.xlabel(r'$x$')\n",
    "plt.ylabel(r'$y$')\n",
    "plt.show()"
   ]
  },
  {
   "cell_type": "markdown",
   "id": "45d18dc6",
   "metadata": {},
   "source": [
    "Vi kan også bruke modellen vår (enten den vi har bygget fra bunnen eller SciKit-Learn modellen"
   ]
  },
  {
   "cell_type": "code",
   "execution_count": 34,
   "id": "b29fd362",
   "metadata": {},
   "outputs": [
    {
     "data": {
      "image/png": "[encoded data removed]",
      "text/plain": [
       "<Figure size 432x288 with 1 Axes>"
      ]
     },
     "metadata": {
      "needs_background": "light"
     },
     "output_type": "display_data"
    }
   ],
   "source": [
    "plt.plot(x_new, y_hat_new_sk, \"C0-\")\n",
    "plt.scatter(x_new_2,linreg.predict(np.array([[x_new_2]])), color= \"C1\")\n",
    "plt.axis([0,1.0,0, 5.0])\n",
    "plt.xlabel(r'$x$')\n",
    "plt.ylabel(r'$y$')\n",
    "plt.show()"
   ]
  },
  {
   "cell_type": "code",
   "execution_count": null,
   "id": "ee557cf5",
   "metadata": {},
   "outputs": [],
   "source": []
  }
 ],
 "metadata": {
  "kernelspec": {
   "display_name": "Python 3 (ipykernel)",
   "language": "python",
   "name": "python3"
  },
  "language_info": {
   "codemirror_mode": {
    "name": "ipython",
    "version": 3
   },
   "file_extension": ".py",
   "mimetype": "text/x-python",
   "name": "python",
   "nbconvert_exporter": "python",
   "pygments_lexer": "ipython3",
   "version": "3.9.12"
  }
 },
 "nbformat": 4,
 "nbformat_minor": 5
}
