{
 "cells": [
  {
   "cell_type": "code",
   "execution_count": 1,
   "id": "494c7a5e",
   "metadata": {},
   "outputs": [],
   "source": [
    "import ipywidgets as widgets\n",
    "from sklearn import datasets\n",
    "import pandas as pd\n",
    "import numpy as np\n",
    "import matplotlib.pyplot as plt\n",
    "import matplotlib as mpl\n",
    "from sklearn.metrics import mean_squared_error, mean_absolute_error, r2_score\n",
    "from sklearn.model_selection import train_test_split\n",
    "from sklearn.preprocessing import PolynomialFeatures\n",
    "from sklearn.pipeline import make_pipeline\n",
    "from sklearn.linear_model import Lasso\n",
    "from IPython.display import clear_output\n",
    "from ipywidgets import interact, interactive, fixed, interact_manual"
   ]
  },
  {
   "cell_type": "code",
   "execution_count": 2,
   "id": "7f76f4e7",
   "metadata": {},
   "outputs": [],
   "source": [
    "X,y = datasets.load_diabetes(return_X_y=True, as_frame=True)"
   ]
  },
  {
   "cell_type": "code",
   "execution_count": 3,
   "id": "912c3543",
   "metadata": {},
   "outputs": [],
   "source": [
    "X_train_val, X_test, y_train_val, y_test = train_test_split(X,y,test_size=0.25, random_state=42)"
   ]
  },
  {
   "cell_type": "code",
   "execution_count": 4,
   "id": "af418451",
   "metadata": {},
   "outputs": [],
   "source": [
    "X_train, X_val, y_train, y_val = train_test_split(X_train_val,y_train_val,test_size=round((0.15 / 0.75),1), random_state=42)"
   ]
  },
  {
   "cell_type": "code",
   "execution_count": 5,
   "id": "761771ef",
   "metadata": {},
   "outputs": [
    {
     "data": {
      "application/vnd.jupyter.widget-view+json": {
       "model_id": "3ff47263c8f040be9cdd328372a87449",
       "version_major": 2,
       "version_minor": 0
      },
      "text/plain": [
       "interactive(children=(IntSlider(value=10, description='n_iter', max=10000, min=1), IntSlider(value=-3, descrip…"
      ]
     },
     "metadata": {},
     "output_type": "display_data"
    }
   ],
   "source": [
    "@widgets.interact_manual(\n",
    "    alpha=(-5,1), poly=(1,10), n_iter=(1,10000))\n",
    "def plot(n_iter=10., alpha=-3, poly=4):\n",
    "    #n_iter = iter_slider.value\n",
    "    #alpha_value = alpha_slider.value\n",
    "    #poly = poly_slider.value\n",
    "\n",
    "\n",
    "    model = make_pipeline(PolynomialFeatures(poly+1),Lasso(alpha=10**alpha, max_iter=n_iter))\n",
    "    model.fit(X_train,y_train)\n",
    "    y_val_hat = model.predict(X_val)\n",
    "    clear_output(wait=True)\n",
    "    plt.title(\"MSE = {}, MAE = {}, R2 = {}\".format(mean_squared_error(y_val,y_val_hat).round(),mean_absolute_error(y_val,y_val_hat).round(),r2_score(y_val,y_val_hat).round(2)))\n",
    "    plt.scatter(y_val, y_val_hat, label=\"Predicted VS True\")\n",
    "    plt.plot(np.arange(0,350),\"C1--\", label= \"Optimal performance\")\n",
    "    plt.ylabel(\"Predicted\")\n",
    "    plt.xlabel(\"True\")\n",
    "    plt.xlim(0,350)\n",
    "    plt.ylim(0,350)\n",
    "    plt.legend()\n",
    "    plt.show()"
   ]
  },
  {
   "cell_type": "code",
   "execution_count": null,
   "id": "594a12a7",
   "metadata": {},
   "outputs": [],
   "source": []
  }
 ],
 "metadata": {
  "kernelspec": {
   "display_name": "Python 3 (ipykernel)",
   "language": "python",
   "name": "python3"
  },
  "language_info": {
   "codemirror_mode": {
    "name": "ipython",
    "version": 3
   },
   "file_extension": ".py",
   "mimetype": "text/x-python",
   "name": "python",
   "nbconvert_exporter": "python",
   "pygments_lexer": "ipython3",
   "version": "3.9.12"
  }
 },
 "nbformat": 4,
 "nbformat_minor": 5
}
