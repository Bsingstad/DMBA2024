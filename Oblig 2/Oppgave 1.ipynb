{
 "cells": [
  {
   "cell_type": "markdown",
   "id": "4931ed15",
   "metadata": {},
   "source": [
    "# Obligatorisk innlevering 2 - oppgave 1"
   ]
  },
  {
   "cell_type": "markdown",
   "id": "433c9a51",
   "metadata": {},
   "source": [
    "Denne oppgaven tar for seg et datasett fra Food Mart, som er ennærbutikkjede i USA. Food Mart har i dette datasettet samlet endel data i forbindelse med mediekampanjer. Din oppgave er å forutsi kostnadene for mediekampanjer i matvaremarkedet på grunnlag av funksjonene som tilbys."
   ]
  },
  {
   "cell_type": "code",
   "execution_count": 1,
   "id": "c5414fcb",
   "metadata": {},
   "outputs": [],
   "source": [
    "# Importer resten av pakkene du trenger her:\n",
    "import pandas as pd\n",
    "from sklearn.model_selection import train_test_split"
   ]
  },
  {
   "cell_type": "code",
   "execution_count": null,
   "id": "6e533525",
   "metadata": {},
   "outputs": [],
   "source": [
    "# I denne oppgaven skal dere bruke følgende datasett:\n",
    "df = pd.read_csv(\"./datasett1.csv\")\n",
    "# Her deler jeg datasettet inn i egenskaper (X) og target (y)\n",
    "X = df.iloc[:,:-1]\n",
    "y = df.iloc[:,-1]\n",
    "# Tilslutt deler jeg inn i et trening- og et testsett (75%/25%)\n",
    "X_train, X_test, y_train, y_test = train_test_split(X,y,test_size=0.25, random_state=0)\n",
    "# PS: Ikke endre denne kodecellen!\n"
   ]
  },
  {
   "cell_type": "markdown",
   "id": "a9d11319",
   "metadata": {},
   "source": [
    "#### Oppgave 1.1) \n",
    "Visualiser $y\\_train$ og $y\\_val$ i et histogram. Kan du, basert på figuren, se hva slags problem vi skal løse (regresjon/klassifisering)? \n",
    "\n",
    "Begrunn svaret"
   ]
  },
  {
   "cell_type": "code",
   "execution_count": null,
   "id": "73faf516",
   "metadata": {},
   "outputs": [],
   "source": [
    "#TODO: visualiser y_train og y_test i et histogram\n",
    "#TODO: visualiser y_train og y_test i et histogram\n",
    "from sklearn.model_selection import train_test_split\n",
    "\n",
    "# Splitting data into features (X) and target (y)\n",
    "X = data.iloc[:, :-1]\n",
    "y = data.iloc[:, -1]\n",
    "\n",
    "X_train, X_test, y_train, y_test = train_test_split(X, y, test_size=0.25, random_state=0)\n",
    "\n",
    "\n",
    "plt.figure(figsize=(12, 6))\n",
    "\n",
    "plt.subplot(1, 2, 1)\n",
    "plt.hist(y_train, bins=30, color='skyblue', edgecolor='black')\n",
    "plt.title(\"y_train Histogram\")\n",
    "plt.xlabel(\"Cost\")\n",
    "plt.ylabel(\"Frequency\")\n",
    "\n",
    "\n",
    "plt.subplot(1, 2, 2)\n",
    "plt.hist(y_test, bins=30, color='salmon', edgecolor='black')\n",
    "plt.title(\"y_test Histogram\")\n",
    "plt.xlabel(\"Cost\")\n",
    "plt.ylabel(\"Frequency\")\n",
    "\n",
    "plt.tight_layout()\n",
    "plt.show()\n"
   ]
  },
  {
   "cell_type": "markdown",
   "id": "7fc5630f",
   "metadata": {},
   "source": [
    "**Svar:**\n",
    "\n",
    "*< ditt tekstsvar her >*"
   ]
  },
  {
   "cell_type": "markdown",
   "id": "3f5baefe",
   "metadata": {},
   "source": [
    "#### Oppgave 1.2) \n",
    "\n",
    "fullfør funksjonen under slik at den tar inn både egenskapene og target, legger disse sammen i samme matrise igjen og visualiser dataene som en korrelasjonsmatrise (poenget er at du skal kunne se hvordan egenskapene korrelerer med target).\n",
    "\n",
    "* Beskriv hvilke egenskaper du ser korrelerer mest med target"
   ]
  },
  {
   "cell_type": "code",
   "execution_count": null,
   "id": "1433a6b2",
   "metadata": {},
   "outputs": [],
   "source": [
    "\n",
    "    \n",
    "    #TODO: Fullfør koden\n",
    "    # Re-attempting the correlation matrix function and plot\n",
    "def korrelasjonsmatrise(X, y):\n",
    "    \n",
    "    X_temp = X.copy()\n",
    "    y_temp = y.copy()\n",
    "    X_temp[\"Target\"] = y_temp\n",
    "\n",
    "    \n",
    "    correlation_matrix = X_temp.corr()\n",
    "\n",
    "    \n",
    "    plt.figure(figsize=(12, 10))\n",
    "    sns.heatmap(correlation_matrix, annot=True, cmap='coolwarm', fmt=\".2f\", linewidths=0.5)\n",
    "    plt.title(\"Correlation Matrix of Features with Target (Cost)\")\n",
    "    plt.show()\n",
    "\n",
    "# Run the correlation matrix function on the training data\n",
    "korrelasjonsmatrise(X_train, y_train)\n"
   ]
  },
  {
   "cell_type": "code",
   "execution_count": 5,
   "id": "8eedaec8",
   "metadata": {},
   "outputs": [],
   "source": [
    "korrelasjonsmatrise(X_train,y_train)"
   ]
  },
  {
   "cell_type": "markdown",
   "id": "65265cd0",
   "metadata": {},
   "source": [
    "**Svar:**\n",
    "\n",
    "*< ditt tekstsvar her >*"
   ]
  },
  {
   "cell_type": "markdown",
   "id": "e2faadd2",
   "metadata": {},
   "source": [
    "#### Oppgave 1.3) \n",
    "Velg en modellarkitektur (gjerne fra Scikit-Learn) og gjør et strukturert hyperparametersøk. \n",
    "* Gjør et søk på minst 3 paramtere og minst 2 verdier pr parameter\n",
    "* Bruk 3-folds kryssvalidering for hver parameterkombinasjon\n",
    "* Velg en metrikk som passer for målet (tips: \"neg_mean_squared_error\" i sklearn) \n",
    "* Skriv ut den parameterkobinasjonen som ga den beste skåren, samt skåren. Kommenter resultatet"
   ]
  },
  {
   "cell_type": "code",
   "execution_count": null,
   "id": "897cdc49",
   "metadata": {},
   "outputs": [],
   "source": [
    "#TODO: Utfør hyperparametersøk for en modell\n",
    "from sklearn.ensemble import RandomForestRegressor\n",
    "from sklearn.model_selection import GridSearchCV\n",
    "\n",
    "\n",
    "model = RandomForestRegressor(random_state=0)\n",
    "\n",
    "\n",
    "param_grid = {\n",
    "    'n_estimators': [50, 100, 200],\n",
    "    'max_depth': [None, 10, 20],\n",
    "    'min_samples_split': [2, 5, 10]\n",
    "}\n",
    "\n",
    "\n",
    "grid_search = GridSearchCV(estimator=model, \n",
    "                           param_grid=param_grid, \n",
    "                           scoring='neg_mean_squared_error', \n",
    "                           cv=3,\n",
    "                           n_jobs=-1,\n",
    "                           verbose=2)\n",
    "\n",
    "\n",
    "grid_search.fit(X_train, y_train)\n",
    "\n",
    "\n",
    "print(\"Best Parameters:\", grid_search.best_params_)\n",
    "print(\"Best Score (neg_mean_squared_error):\", grid_search.best_score_)\n"
   ]
  },
  {
   "cell_type": "markdown",
   "id": "95ab2ef7",
   "metadata": {},
   "source": [
    "**Svar:**\n",
    "\n",
    "*< ditt tekstsvar her >*"
   ]
  },
  {
   "cell_type": "markdown",
   "id": "552110b1",
   "metadata": {},
   "source": [
    "#### Oppgave 1.4) \n",
    "Bruk hyperparameterkombinasjonen fra oppgave 1.3 og kryssvalider den modellen på nytt med K >= 5 \n",
    "* Logg \"mean absolute error\" og \"mean squared error\" for hver kryssvalideringsrunde\n",
    "* Oppgi gjennomsnitt og standardavvik for \"mean absolute error\" og \"mean squared error\" etter kryssvalideringen og kommenter resultatet\n",
    "* Hvor stor er den gjennomsnittlige feilen på prediksjonen sammenlignet med gjennomsnittlig faktisk pris i treningsdataene? "
   ]
  },
  {
   "cell_type": "code",
   "execution_count": null,
   "id": "17c07f7b",
   "metadata": {},
   "outputs": [],
   "source": [
    "#TODO: Utfør kryssvalidering med de optimale parameterene fra forrige oppgave og logg mean_absolute_error og mean_squared_error\n",
    "\n",
    "from sklearn.ensemble import RandomForestRegressor\n",
    "from sklearn.model_selection import cross_val_score, KFold\n",
    "from sklearn.metrics import mean_absolute_error, mean_squared_error\n",
    "import numpy as np\n",
    "\n",
    "\n",
    "best_params = grid_search.best_params_\n",
    "model = RandomForestRegressor(**best_params, random_state=0)\n",
    "\n",
    "\n",
    "kfold = KFold(n_splits=5, shuffle=True, random_state=0)\n",
    "\n",
    "\n",
    "mae_scores = []\n",
    "mse_scores = []\n",
    "\n",
    "for train_index, val_index in kfold.split(X_train):\n",
    "    X_fold_train, X_fold_val = X_train.iloc[train_index], X_train.iloc[val_index]\n",
    "    y_fold_train, y_fold_val = y_train.iloc[train_index], y_train.iloc[val_index]\n",
    "    \n",
    " \n",
    "    model.fit(X_fold_train, y_fold_train)\n",
    "    \n",
    "    \n",
    "    y_pred = model.predict(X_fold_val)\n",
    "    \n",
    "    \n",
    "    mae_scores.append(mean_absolute_error(y_fold_val, y_pred))\n",
    "    mse_scores.append(mean_squared_error(y_fold_val, y_pred))\n",
    "\n",
    "\n",
    "mae_mean, mae_std = np.mean(mae_scores), np.std(mae_scores)\n",
    "mse_mean, mse_std = np.mean(mse_scores), np.std(mse_scores)\n",
    "\n",
    "\n",
    "print(f\"Mean Absolute Error (MAE): Mean = {mae_mean:.2f}, Std Dev = {mae_std:.2f}\")\n",
    "print(f\"Mean Squared Error (MSE): Mean = {mse_mean:.2f}, Std Dev = {mse_std:.2f}\")\n",
    "\n",
    "\n",
    "average_cost = y_train.mean()\n",
    "mae_percentage = (mae_mean / average_cost) * 100\n",
    "print(f\"The average prediction error (MAE) is {mae_percentage:.2f}% of the average cost in the training data.\")\n"
   ]
  },
  {
   "cell_type": "code",
   "execution_count": 8,
   "id": "24e44a7d",
   "metadata": {},
   "outputs": [],
   "source": [
    "#TODO: Beregn gjennomsnitt og standard avvik for mean_absolute_error og mean_squared_error og beregn hvor stor den \n",
    "# gjennomsnittlige feilen er i forhold til den gjennomsnittlige prisen for markedskampanjen (target) i prosent"
   ]
  },
  {
   "cell_type": "markdown",
   "id": "edcb67e4",
   "metadata": {},
   "source": [
    "**Svar:**\n",
    "\n",
    "*< ditt tekstsvar her >*"
   ]
  },
  {
   "cell_type": "markdown",
   "id": "c1483c3b",
   "metadata": {},
   "source": [
    "#### Oppgave 1.5) \n",
    "Tren modellen en siste gang på alle treningsdataene og gjør prediksjon på testdataene (bruk de optimale parametrene fra oppgave 1.3)\n",
    "* Hvor stor er den gjennomsnittlige feilen på prediksjonen sammenlignet med gjennomsnittlig faktisk pris i testdataene? "
   ]
  },
  {
   "cell_type": "code",
   "execution_count": null,
   "id": "b74348da",
   "metadata": {},
   "outputs": [],
   "source": [
    "#TODO: Tren modellen på alle treningsdata og utfør prediksjon på testdataene\n",
    "from sklearn.metrics import mean_absolute_error\n",
    "\n",
    "\n",
    "best_params = grid_search.best_params_\n",
    "model = RandomForestRegressor(**best_params, random_state=0)\n",
    "\n",
    "\n",
    "model.fit(X_train, y_train)\n",
    "\n",
    "\n",
    "y_pred = model.predict(X_test)\n",
    "\n",
    "\n",
    "mae_test = mean_absolute_error(y_test, y_pred)\n",
    "\n",
    "\n",
    "average_test_cost = y_test.mean()\n",
    "mae_percentage_test = (mae_test / average_test_cost) * 100\n",
    "print(f\"Mean Absolute Error (MAE) on Test Set: {mae_test:.2f}\")\n",
    "print(f\"The average prediction error (MAE) is {mae_percentage_test:.2f}% of the average cost in the test data.\")\n"
   ]
  },
  {
   "cell_type": "markdown",
   "id": "7f1d9d40",
   "metadata": {},
   "source": [
    "**Svar:**\n",
    "\n",
    "*< ditt tekstsvar her >*"
   ]
  }
 ],
 "metadata": {
  "kernelspec": {
   "display_name": "Python 3 (ipykernel)",
   "language": "python",
   "name": "python3"
  },
  "language_info": {
   "codemirror_mode": {
    "name": "ipython",
    "version": 3
   },
   "file_extension": ".py",
   "mimetype": "text/x-python",
   "name": "python",
   "nbconvert_exporter": "python",
   "pygments_lexer": "ipython3",
   "version": "3.8.5"
  }
 },
 "nbformat": 4,
 "nbformat_minor": 5
}
