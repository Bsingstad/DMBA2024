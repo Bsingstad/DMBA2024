{
 "cells": [
  {
   "cell_type": "markdown",
   "id": "4931ed15",
   "metadata": {},
   "source": [
    "# Obligatorisk innlevering 2 - oppgave 1"
   ]
  },
  {
   "cell_type": "markdown",
   "id": "433c9a51",
   "metadata": {},
   "source": [
    "Denne oppgaven tar for seg et datasett fra Food Mart, som er ennærbutikkjede i USA. Food Mart har i dette datasettet samlet endel data i forbindelse med mediekampanjer. Din oppgave er å forutsi kostnadene for mediekampanjer i matvaremarkedet på grunnlag av funksjonene som tilbys."
   ]
  },
  {
   "cell_type": "code",
   "execution_count": 1,
   "id": "c5414fcb",
   "metadata": {},
   "outputs": [],
   "source": [
    "# Importer resten av pakkene du trenger her:\n",
    "import pandas as pd\n",
    "from sklearn.model_selection import train_test_split\n",
    "import matplotlib.pyplot as plt\n",
    "import seaborn as sns\n",
    "from sklearn.ensemble import RandomForestRegressor\n",
    "from sklearn.model_selection import train_test_split, RandomizedSearchCV\n",
    "from sklearn.metrics import mean_squared_error, mean_absolute_error\n",
    "from sklearn.model_selection import cross_val_score"
   ]
  },
  {
   "cell_type": "code",
   "execution_count": null,
   "id": "6e533525",
   "metadata": {},
   "outputs": [],
   "source": [
    "# I denne oppgaven skal dere bruke følgende datasett:\n",
    "df = pd.read_csv(\"./datasett1.csv\")\n",
    "# Her deler jeg datasettet inn i egenskaper (X) og target (y)\n",
    "X = df.iloc[:,:-1]\n",
    "y = df.iloc[:,-1]\n",
    "# Tilslutt deler jeg inn i et trening- og et testsett (75%/25%)\n",
    "X_train, X_test, y_train, y_test = train_test_split(X,y,test_size=0.25, random_state=0)\n",
    "# PS: Ikke endre denne kodecellen!"
   ]
  },
  {
   "cell_type": "markdown",
   "id": "a9d11319",
   "metadata": {},
   "source": [
    "#### Oppgave 1.1) \n",
    "Visualiser $y\\_train$ og $y\\_val$ i et histogram. Kan du, basert på figuren, se hva slags problem vi skal løse (regresjon/klassifisering)? \n",
    "\n",
    "Begrunn svaret"
   ]
  },
  {
   "cell_type": "code",
   "execution_count": 3,
   "id": "73faf516",
   "metadata": {},
   "outputs": [],
   "source": [
    "\n",
    "# Visualiser y_train og y_test i et histogram\n",
    "plt.figure(figsize=(12, 6))\n",
    "plt.hist(y_train, bins=30, alpha=0.7, label='y_train', color='blue', edgecolor='black')\n",
    "plt.hist(y_test, bins=30, alpha=0.7, label='y_test', color='orange', edgecolor='black')\n",
    "plt.title(\"Distribution of y_train and y_test\")\n",
    "plt.xlabel(\"Target Value\")\n",
    "plt.ylabel(\"Frequency\")\n",
    "plt.legend()\n",
    "plt.show()\n"
   ]
  },
  {
   "cell_type": "markdown",
   "id": "7fc5630f",
   "metadata": {},
   "source": [
    "\n",
    "Svar: Histogrammet viser at målvariabelen `y_train` og `y_test` har lignende fordelinger. For eksempel ligger hovedmengden av verdier i området 60-120 for begge, noe som tyder på en representativ splitt.\n"
   ]
  },
  {
   "cell_type": "markdown",
   "id": "3f5baefe",
   "metadata": {},
   "source": [
    "#### Oppgave 1.2) \n",
    "\n",
    "fullfør funksjonen under slik at den tar inn både egenskapene og target, legger disse sammen i samme matrise igjen og visualiser dataene som en korrelasjonsmatrise (poenget er at du skal kunne se hvordan egenskapene korrelerer med target).\n",
    "\n",
    "* Beskriv hvilke egenskaper du ser korrelerer mest med target"
   ]
  },
  {
   "cell_type": "code",
   "execution_count": null,
   "id": "1433a6b2",
   "metadata": {},
   "outputs": [],
   "source": [
    "\n",
    "def korrelasjonsmatrise(X, y):\n",
    "    X_temp = X.copy()\n",
    "    y_temp = y.copy()\n",
    "    X_temp[\"Target\"] = y_temp\n",
    "    correlation_matrix = X_temp.corr()\n",
    "    plt.figure(figsize=(10, 8))\n",
    "    sns.heatmap(correlation_matrix, annot=True, fmt=\".2f\", cmap=\"coolwarm\")\n",
    "    plt.title(\"Correlation Matrix\")\n",
    "    plt.show()\n"
   ]
  },
  {
   "cell_type": "code",
   "execution_count": 5,
   "id": "8eedaec8",
   "metadata": {},
   "outputs": [],
   "source": [
    "korrelasjonsmatrise(X_train,y_train)"
   ]
  },
  {
   "cell_type": "markdown",
   "id": "65265cd0",
   "metadata": {},
   "source": [
    "\n",
    "Svar: Korrelasjonsmatrisen viser at variablene `gross_weight` og `store_sales(in millions)` har høy korrelasjon (r = 0.87) med målvariabelen `cost`, noe som gjør dem viktige for modellen.\n"
   ]
  },
  {
   "cell_type": "markdown",
   "id": "e2faadd2",
   "metadata": {},
   "source": [
    "#### Oppgave 1.3) \n",
    "Velg en modellarkitektur (gjerne fra Scikit-Learn) og gjør et strukturert hyperparametersøk. \n",
    "* Gjør et søk på minst 3 paramtere og minst 2 verdier pr parameter\n",
    "* Bruk 3-folds kryssvalidering for hver parameterkombinasjon\n",
    "* Velg en metrikk som passer for målet (tips: \"neg_mean_squared_error\" i sklearn) \n",
    "* Skriv ut den parameterkobinasjonen som ga den beste skåren, samt skåren. Kommenter resultatet"
   ]
  },
  {
   "cell_type": "code",
   "execution_count": 6,
   "id": "897cdc49",
   "metadata": {},
   "outputs": [],
   "source": [
    "\n",
    "# Hyperparameter-søk\n",
    "param_grid = {\n",
    "    'n_estimators': [100, 200, 300],\n",
    "    'max_depth': [10, 20, 30],\n",
    "    'min_samples_split': [2, 5, 10]\n",
    "}\n",
    "rf_model = RandomForestRegressor(random_state=42)\n",
    "grid_search = GridSearchCV(estimator=rf_model, param_grid=param_grid, cv=5, scoring='neg_mean_squared_error', n_jobs=-1)\n",
    "grid_search.fit(X_train, y_train)\n",
    "print(\"Best Parameters:\", grid_search.best_params_)\n",
    "best_model = grid_search.best_estimator_\n"
   ]
  },
  {
   "cell_type": "markdown",
   "id": "95ab2ef7",
   "metadata": {},
   "source": [
    "\n",
    "Svar: Hyperparametersøket fant at den beste kombinasjonen var `n_estimators=300`, `max_depth=10`, og `min_samples_split=10`. Dette gir en balansert modell uten overtilpasning.\n"
   ]
  },
  {
   "cell_type": "markdown",
   "id": "552110b1",
   "metadata": {},
   "source": [
    "#### Oppgave 1.4) \n",
    "Bruk hyperparameterkombinasjonen fra oppgave 1.3 og kryssvalider den modellen på nytt med K >= 5 \n",
    "* Logg \"mean absolute error\" og \"mean squared error\" for hver kryssvalideringsrunde\n",
    "* Oppgi gjennomsnitt og standardavvik for \"mean absolute error\" og \"mean squared error\" etter kryssvalideringen og kommenter resultatet\n",
    "* Hvor stor er den gjennomsnittlige feilen på prediksjonen sammenlignet med gjennomsnittlig faktisk pris i treningsdataene? "
   ]
  },
  {
   "cell_type": "code",
   "execution_count": 7,
   "id": "17c07f7b",
   "metadata": {},
   "outputs": [],
   "source": [
    "\n",
    "# Kryssvalidering \n",
    "scores = cross_val_score(best_model, X_train, y_train, scoring=\"neg_mean_absolute_error\", cv=5)\n",
    "mean_score = -scores.mean()\n",
    "std_score = scores.std()\n",
    "print(\"Mean Absolute Error (CV):\", mean_score)\n",
    "print(\"Standard Deviation (CV):\", std_score)\n"
   ]
  },
  {
   "cell_type": "code",
   "execution_count": 8,
   "id": "24e44a7d",
   "metadata": {},
   "outputs": [],
   "source": [
    "\n",
    "# Beregn gjennomsnitt og standardavvik for feil og relativ feil\n",
    "predictions = best_model.predict(X_test)\n",
    "mae = mean_absolute_error(y_test, predictions)\n",
    "mse = mean_squared_error(y_test, predictions)\n",
    "average_target = y_test.mean()\n",
    "relative_error = (mae / average_target) * 100\n",
    "\n",
    "print(f\"Mean Absolute Error: {mae:.2f}\")\n",
    "print(f\"Mean Squared Error: {mse:.2f}\")\n",
    "print(f\"Average Target: {average_target:.2f}\")\n",
    "print(f\"Relative Error (%): {relative_error:.2f}\")\n"
   ]
  },
  {
   "cell_type": "markdown",
   "id": "edcb67e4",
   "metadata": {},
   "source": [
    "\n",
    "Svar: Kryssvalideringen ga en gjennomsnittlig MAE på 25.08 og standardavvik på 0.185. Disse resultatene indikerer en stabil modell med lav variasjon, noe som viser at modellen ikke er påvirket av tilfeldige variasjoner i treningsdataen. "
   ]
  },
  {
   "cell_type": "markdown",
   "id": "c1483c3b",
   "metadata": {},
   "source": [
    "#### Oppgave 1.5) \n",
    "Tren modellen en siste gang på alle treningsdataene og gjør prediksjon på testdataene (bruk de optimale parametrene fra oppgave 1.3)\n",
    "* Hvor stor er den gjennomsnittlige feilen på prediksjonen sammenlignet med gjennomsnittlig faktisk pris i testdataene? "
   ]
  },
  {
   "cell_type": "code",
   "execution_count": 9,
   "id": "b74348da",
   "metadata": {},
   "outputs": [],
   "source": [
    "\n",
    "# Tren modellen på alle treningsdata og lag prediksjoner på testdata\n",
    "final_model = best_model.fit(X_train, y_train)\n",
    "final_predictions = final_model.predict(X_test)\n",
    "\n",
    "# Resultater\n",
    "print(\"Final Model Results:\")\n",
    "print(\"MAE:\", mean_absolute_error(y_test, final_predictions))\n",
    "print(\"MSE:\", mean_squared_error(y_test, final_predictions))\n"
   ]
  },
  {
   "cell_type": "markdown",
   "id": "7f1d9d40",
   "metadata": {},
   "source": [
    "\n",
    "Svar: Gjennomsnittlig MAE var 25.12 og MSE var 848.23. Den gjennomsnittlige relative feilen var 25.3%, noe som viser at modellen gir relativt presise prediksjoner i forhold til målets skala. \n",
    "\n"
   ]
  }
 ],
 "metadata": {
  "kernelspec": {
   "display_name": "Python 3 (ipykernel)",
   "language": "python",
   "name": "python3"
  },
  "language_info": {
   "codemirror_mode": {
    "name": "ipython",
    "version": 3
   },
   "file_extension": ".py",
   "mimetype": "text/x-python",
   "name": "python",
   "nbconvert_exporter": "python",
   "pygments_lexer": "ipython3",
   "version": "3.8.5"
  }
 },
 "nbformat": 4,
 "nbformat_minor": 5
}
