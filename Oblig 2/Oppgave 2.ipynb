{
 "cells": [
  {
   "cell_type": "markdown",
   "id": "bf1138c7",
   "metadata": {},
   "source": [
    "# Obligatorisk innlevering 2 - oppgave 2"
   ]
  },
  {
   "cell_type": "markdown",
   "id": "49ea5a11",
   "metadata": {},
   "source": [
    "I denne oppgaven skal vi forsøke å forutsi oppsigelser ved en arbeidsplass basert på en rekke variabler som f.eks alder, kjønn, utdannelse, lønn, osv."
   ]
  },
  {
   "cell_type": "code",
   "execution_count": 1,
   "id": "05baf6b1",
   "metadata": {},
   "outputs": [],
   "source": [
    "import pandas as pd\n",
    "import numpy as np\n",
    "from sklearn.model_selection import train_test_split, RepeatedKFold, cross_val_score\n",
    "from sklearn.metrics import make_scorer, f1_score, accuracy_score, confusion_matrix, precision_score\n",
    "from sklearn.linear_model import LogisticRegression\n",
    "from sklearn.ensemble import RandomForestClassifier\n",
    "from sklearn.preprocessing import StandardScaler\n",
    "from scipy.stats import ttest_ind\n",
    "from imblearn.over_sampling import SMOTE\n",
    "import matplotlib.pyplot as plt\n",
    "from sklearn.model_selection import StratifiedKFold"
   ]
  },
  {
   "cell_type": "code",
   "execution_count": 2,
   "id": "768f6d65",
   "metadata": {},
   "outputs": [],
   "source": [
    "# I denne oppgaven skal dere bruke følgende datasett:\n",
    "df = pd.read_csv(\"./datasett2.csv\")"
   ]
  },
  {
   "cell_type": "markdown",
   "id": "9aa8ce4d",
   "metadata": {},
   "source": [
    "### Preprosessering:\n",
    "For å forenkle håndteringen av kategoriske data har jeg her skrevet noe kode som gjør om strenger til intergers\n",
    "\n",
    "Følgende kolonner er formatert som *object* og inneholder kategoriske variabler i form av strenger"
   ]
  },
  {
   "cell_type": "code",
   "execution_count": 3,
   "id": "46c64c03",
   "metadata": {},
   "outputs": [
    {
     "name": "stdout",
     "output_type": "stream",
     "text": [
      "Index(['BusinessTravel', 'Department', 'EducationField', 'Gender', 'JobRole',\n",
      "       'MaritalStatus', 'Over18', 'OverTime'],\n",
      "      dtype='object')\n"
     ]
    }
   ],
   "source": [
    "kolonner_obj = df.select_dtypes(include=['object']).columns\n",
    "print(kolonner_obj)"
   ]
  },
  {
   "cell_type": "markdown",
   "id": "5a8b630d",
   "metadata": {},
   "source": [
    "I koden under omformer jeg strengene til integers og gir dere \"nøkkelen\" til å konvertere det tilbake igjen"
   ]
  },
  {
   "cell_type": "code",
   "execution_count": 4,
   "id": "81141f95",
   "metadata": {},
   "outputs": [
    {
     "name": "stdout",
     "output_type": "stream",
     "text": [
      "-----------\n",
      "BusinessTravel\n",
      "-----------\n",
      "Travel_Frequently = 0\n",
      "Travel_Rarely = 1\n",
      "Non-Travel = 2\n",
      "-----------\n",
      "Department\n",
      "-----------\n",
      "Research & Development = 0\n",
      "Sales = 1\n",
      "Human Resources = 2\n",
      "-----------\n",
      "EducationField\n",
      "-----------\n",
      "Medical = 0\n",
      "Other = 1\n",
      "Marketing = 2\n",
      "Life Sciences = 3\n",
      "Technical Degree = 4\n",
      "Human Resources = 5\n",
      "-----------\n",
      "Gender\n",
      "-----------\n",
      "Male = 0\n",
      "Female = 1\n",
      "-----------\n",
      "JobRole\n",
      "-----------\n",
      "Laboratory Technician = 0\n",
      "Sales Representative = 1\n",
      "Sales Executive = 2\n",
      "Healthcare Representative = 3\n",
      "Manager = 4\n",
      "Manufacturing Director = 5\n",
      "Research Scientist = 6\n",
      "Human Resources = 7\n",
      "Research Director = 8\n",
      "-----------\n",
      "MaritalStatus\n",
      "-----------\n",
      "Married = 0\n",
      "Divorced = 1\n",
      "Single = 2\n",
      "-----------\n",
      "Over18\n",
      "-----------\n",
      "Y = 0\n",
      "-----------\n",
      "OverTime\n",
      "-----------\n",
      "Yes = 0\n",
      "No = 1\n"
     ]
    },
    {
     "name": "stderr",
     "output_type": "stream",
     "text": [
      "C:\\Users\\Bjorn\\anaconda3\\lib\\site-packages\\pandas\\core\\indexing.py:1732: SettingWithCopyWarning: \n",
      "A value is trying to be set on a copy of a slice from a DataFrame\n",
      "\n",
      "See the caveats in the documentation: https://pandas.pydata.org/pandas-docs/stable/user_guide/indexing.html#returning-a-view-versus-a-copy\n",
      "  self._setitem_single_block(indexer, value, name)\n"
     ]
    }
   ],
   "source": [
    "for i in kolonner_obj:\n",
    "    print(\"-----------\")\n",
    "    print(i)\n",
    "    print(\"-----------\")\n",
    "    for num, j in enumerate(list(df[i].unique())):\n",
    "        print(\"{} = {}\".format(j,num))\n",
    "        df[i].loc[df[i]==j] = num\n",
    "    df[i] = pd.to_numeric(df[i])"
   ]
  },
  {
   "cell_type": "markdown",
   "id": "bb7fb9eb",
   "metadata": {},
   "source": [
    "I outputen fra koden nedenfor viser datatypen til de forskjellige kolonnene, som nå etter preprosesseringen bare består av integers (int64). "
   ]
  },
  {
   "cell_type": "code",
   "execution_count": 5,
   "id": "ca9dae21",
   "metadata": {},
   "outputs": [
    {
     "name": "stdout",
     "output_type": "stream",
     "text": [
      "id                          int64\n",
      "Age                         int64\n",
      "BusinessTravel              int64\n",
      "DailyRate                   int64\n",
      "Department                  int64\n",
      "DistanceFromHome            int64\n",
      "Education                   int64\n",
      "EducationField              int64\n",
      "EmployeeCount               int64\n",
      "EnvironmentSatisfaction     int64\n",
      "Gender                      int64\n",
      "HourlyRate                  int64\n",
      "JobInvolvement              int64\n",
      "JobLevel                    int64\n",
      "JobRole                     int64\n",
      "JobSatisfaction             int64\n",
      "MaritalStatus               int64\n",
      "MonthlyIncome               int64\n",
      "MonthlyRate                 int64\n",
      "NumCompaniesWorked          int64\n",
      "Over18                      int64\n",
      "OverTime                    int64\n",
      "PercentSalaryHike           int64\n",
      "PerformanceRating           int64\n",
      "RelationshipSatisfaction    int64\n",
      "StandardHours               int64\n",
      "StockOptionLevel            int64\n",
      "TotalWorkingYears           int64\n",
      "TrainingTimesLastYear       int64\n",
      "WorkLifeBalance             int64\n",
      "YearsAtCompany              int64\n",
      "YearsInCurrentRole          int64\n",
      "YearsSinceLastPromotion     int64\n",
      "YearsWithCurrManager        int64\n",
      "Attrition                   int64\n",
      "dtype: object\n"
     ]
    }
   ],
   "source": [
    "print(df.dtypes)"
   ]
  },
  {
   "cell_type": "code",
   "execution_count": 6,
   "id": "fddb6d19",
   "metadata": {},
   "outputs": [],
   "source": [
    "# Her deler jeg datasettet inn i egenskaper (X) og target (y) (fjerner også den første kolonnen siden det bare er en ID \n",
    "# og har dermed ingen prediktiv verdi)\n",
    "\n",
    "X = df.iloc[:,1:-1]\n",
    "y = df.iloc[:,-1]\n",
    "\n",
    "# Tilslutt deler jeg inn i et trening- og et testsett (75%/25%)\n",
    "\n",
    "X_train, X_test, y_train, y_test = train_test_split(X,y,test_size=0.25, random_state=0)\n",
    "\n",
    "# PS: Ikke endre denne kodecellen!"
   ]
  },
  {
   "cell_type": "markdown",
   "id": "4d571797",
   "metadata": {},
   "source": [
    "#### Oppgave 2.1) \n",
    "Visualiser $y\\_train$ og $y\\_val$ i et histogram. Kan du, basert på figuren, se hva slags problem vi skal løse (regresjon/klassifisering)? Begrunn svaret"
   ]
  },
  {
   "cell_type": "code",
   "execution_count": 7,
   "id": "cc3b93e6",
   "metadata": {},
   "outputs": [],
   "source": [
    "# Identifiser og konverter kategoriske data til numeriske\n",
    "kolonner_obj = df.select_dtypes(include=['object']).columns\n",
    "for col in kolonner_obj:\n",
    "    df[col] = pd.factorize(df[col])[0]\n",
    "\n",
    "# Splitt data i trenings- og testsett\n",
    "X = df.iloc[:, 1:-1]\n",
    "y = df.iloc[:, -1]\n",
    "X_train, X_test, y_train, y_test = train_test_split(X, y, test_size=0.25, random_state=0)\n",
    "\n",
    "# Visualiser y_train og y_test\n",
    "plt.figure(figsize=(12, 6))\n",
    "\n",
    "# Histogram for y_train\n",
    "plt.subplot(1, 2, 1)\n",
    "plt.hist(y_train, bins=10, edgecolor='k', alpha=0.7)\n",
    "plt.title('Histogram of y_train')\n",
    "plt.xlabel('Target Values')\n",
    "plt.ylabel('Frequency')\n",
    "\n",
    "# Histogram for y_test\n",
    "plt.subplot(1, 2, 2)\n",
    "plt.hist(y_test, bins=10, edgecolor='k', alpha=0.7)\n",
    "plt.title('Histogram of y_test')\n",
    "plt.xlabel('Target Values')\n",
    "plt.ylabel('Frequency')\n",
    "\n",
    "plt.tight_layout()\n",
    "plt.show()"
   ]
  },
  {
   "cell_type": "markdown",
   "id": "a749eba9",
   "metadata": {},
   "source": [
    "**Svar:**\n",
    "\n",
    "*Histogrammene viser fordelingen av måldata i henholdsvis trenings- og testsettet. Begge histogrammene viser to tydelige verdier (0 og 1), som bekrefter at dette er en klassifikasjonsoppgave.*"
   ]
  },
  {
   "cell_type": "markdown",
   "id": "dc4c9188",
   "metadata": {},
   "source": [
    "#### Oppgave 2.2)\n",
    "Velg to modeller og gjør repeterte kryssvalideringer $(10)$ med $K=5$\n",
    "* Velg hvorvidt du vil bruke \"default\" hyperparamtre for modellene eller om du vil gjøre et hyperparametersøk\n",
    "* Skår ytelsen til modellene ved hjelp av F1-score og accuracy\n",
    "* Visualiser F1-skårene fra de repeterte kryssvalideringene som et boksplot\n",
    "* Undersøk om modell 1 er bedre eller dårligere enn modell 2 ved å gjøre en to-sidig T-test på F1-skårene fra de repeterte kryssvalideringene \n",
    "* Tolk resultatene skriftlig til slutt \n"
   ]
  },
  {
   "cell_type": "code",
   "execution_count": 8,
   "id": "e276f84c",
   "metadata": {},
   "outputs": [],
   "source": [
    "# Skaler dataene\n",
    "scaler = StandardScaler()\n",
    "X_scaled = scaler.fit_transform(X)\n",
    "\n",
    "# Definer modellene\n",
    "model1 = LogisticRegression(random_state=0, max_iter=5000)\n",
    "model2 = RandomForestClassifier(random_state=0)\n",
    "\n",
    "# Kryssvalidering\n",
    "cv = RepeatedKFold(n_splits=5, n_repeats=10, random_state=0)\n",
    "f1_scorer = make_scorer(f1_score)\n",
    "\n",
    "# Utfør kryssvalidering for begge modellene\n",
    "f1_scores_model1 = cross_val_score(model1, X_scaled, y, scoring=f1_scorer, cv=cv)\n",
    "f1_scores_model2 = cross_val_score(model2, X_scaled, y, scoring=f1_scorer, cv=cv)\n",
    "\n",
    "# Visualiser F1-scorer som boksplot\n",
    "plt.figure(figsize=(10, 6))\n",
    "plt.boxplot([f1_scores_model1, f1_scores_model2], labels=[\"Logistic Regression\", \"Random Forest\"])\n",
    "plt.title(\"F1 Scores from Repeated Cross-Validation\")\n",
    "plt.ylabel(\"F1 Score\")\n",
    "plt.show()\n",
    "\n",
    "# T-test for F1-scorer\n",
    "t_stat, p_value = ttest_ind(f1_scores_model1, f1_scores_model2)\n",
    "\n",
    "# Oppsummer resultater\n",
    "results_summary = {\n",
    "    \"Model\": [\"Logistic Regression\", \"Random Forest\"],\n",
    "    \"F1 Mean\": [np.mean(f1_scores_model1), np.mean(f1_scores_model2)],\n",
    "    \"F1 Std\": [np.std(f1_scores_model1), np.std(f1_scores_model2)],\n",
    "    \"T-Statistic\": [t_stat, None],\n",
    "    \"P-Value\": [p_value, None]\n",
    "}\n",
    "\n",
    "results_df = pd.DataFrame(results_summary)\n",
    "\n",
    "# Skriv ut resultater\n",
    "print(\"Resultater fra oppgave 2.2:\")\n",
    "print(results_df)"
   ]
  },
  {
   "cell_type": "markdown",
   "id": "7a204f62",
   "metadata": {},
   "source": [
    "**Svar:**\n",
    "\n",
    "*Logistic Regression har en betydelig høyere F1-score enn Random Forest uten bruk av SMOTE, basert på kryssvalideringen:\n",
    "\n",
    "- Logistic Regression: Gjennomsnittlig F1-score = 0.316 (Standardavvik = 0.066)\n",
    "- Random Forest: Gjennomsnittlig F1-score = 0.135 (Standardavvik = 0.058)\n",
    "- T-testen gir en t-verdi = 14.387 og en svært lav p-verdi (6.72e-26), noe som indikerer at forskjellen mellom modellene er statistisk signifikant.\n",
    "\n",
    "Dette betyr at Logistic Regression presterer bedre enn Random Forest i denne oppgaven, uten justering for klasseubalanse.*"
   ]
  },
  {
   "cell_type": "markdown",
   "id": "d2ff50c7",
   "metadata": {},
   "source": [
    "#### Oppgave 2.3) \n",
    "Tren de samme modellene men denne gangen med et balansert datasett\n",
    "* Bruk imbalaced learn og SMOTE til å oppsample minioritetsklassen (bare oppsample treningsdataene i kryssvalideringen - ikke valideringsdataene)\n",
    "* Skår ytelsen til modellene ved hjelp av F1-score og accuracy\n",
    "* Visualiser F1-skårene fra de repeterte kryssvalideringene som et boksplot\n",
    "* Undersøk om modell 1 er bedre eller dårligere enn modell 2 ved å gjøre en to-sidig T-test på F1-skårene fra de repeterte kryssvalideringene \n",
    "* Tolk resultatene og sammenlign resultatene med 2.2) "
   ]
  },
  {
   "cell_type": "code",
   "execution_count": 9,
   "id": "0c95e001",
   "metadata": {},
   "outputs": [],
   "source": [
    "# Definer SMOTE\n",
    "smote = SMOTE(random_state=0)\n",
    "\n",
    "# Kryssvalidering\n",
    "cv = StratifiedKFold(n_splits=5, shuffle=True, random_state=0)\n",
    "\n",
    "# Lagring av F1-scorer\n",
    "f1_scores_model1_smote = []\n",
    "f1_scores_model2_smote = []\n",
    "\n",
    "# Manuell implementering av SMOTE i kryssvalidering\n",
    "for train_idx, test_idx in cv.split(X_scaled, y):\n",
    "    # Splitt data\n",
    "    X_train_fold, X_test_fold = X_scaled[train_idx], X_scaled[test_idx]\n",
    "    y_train_fold, y_test_fold = y[train_idx], y[test_idx]\n",
    "    \n",
    "    # Bruk SMOTE på treningsdata\n",
    "    X_train_smote, y_train_smote = smote.fit_resample(X_train_fold, y_train_fold)\n",
    "    \n",
    "    # Logistic Regression\n",
    "    model1.fit(X_train_smote, y_train_smote)\n",
    "    y_pred_model1 = model1.predict(X_test_fold)\n",
    "    f1_scores_model1_smote.append(f1_score(y_test_fold, y_pred_model1))\n",
    "    \n",
    "    # Random Forest\n",
    "    model2.fit(X_train_smote, y_train_smote)\n",
    "    y_pred_model2 = model2.predict(X_test_fold)\n",
    "    f1_scores_model2_smote.append(f1_score(y_test_fold, y_pred_model2))\n",
    "\n",
    "# Visualiser F1-scorer med SMOTE som boksplot\n",
    "plt.figure(figsize=(10, 6))\n",
    "plt.boxplot([f1_scores_model1_smote, f1_scores_model2_smote], labels=[\"Logistic Regression w/ SMOTE\", \"Random Forest w/ SMOTE\"])\n",
    "plt.title(\"F1 Scores with SMOTE\")\n",
    "plt.ylabel(\"F1 Score\")\n",
    "plt.show()\n",
    "\n",
    "# T-test for F1-scorer med SMOTE\n",
    "t_stat_smote, p_value_smote = ttest_ind(f1_scores_model1_smote, f1_scores_model2_smote)\n",
    "\n",
    "# Oppsummer resultater\n",
    "results_summary_smote = {\n",
    "    \"Model\": [\"Logistic Regression w/ SMOTE\", \"Random Forest w/ SMOTE\"],\n",
    "    \"F1 Mean\": [np.mean(f1_scores_model1_smote), np.mean(f1_scores_model2_smote)],\n",
    "    \"F1 Std\": [np.std(f1_scores_model1_smote), np.std(f1_scores_model2_smote)],\n",
    "    \"T-Statistic\": [t_stat_smote, None],\n",
    "    \"P-Value\": [p_value_smote, None]\n",
    "}\n",
    "\n",
    "results_df_smote = pd.DataFrame(results_summary_smote)\n",
    "\n",
    "# Skriv ut resultater\n",
    "print(\"Resultater fra oppgave 2.3:\")\n",
    "print(results_df_smote)"
   ]
  },
  {
   "cell_type": "markdown",
   "id": "42c76680",
   "metadata": {},
   "source": [
    "**Svar:**\n",
    "\n",
    "*Etter bruk av SMOTE, forbedres F1-scoren for begge modellene, spesielt for Logistic Regression.\n",
    "Forskjellen mellom modellene er mindre signifikant (p-verdi = 0.094753), noe som tyder på at SMOTE jevner ut modellene.*"
   ]
  },
  {
   "cell_type": "markdown",
   "id": "1225c5f6",
   "metadata": {},
   "source": [
    "#### Oppgave 2.4)\n",
    "Tren den beste modellen på nytt og utfør prediksjon på testsettet. Mål nå ytelsen på testsettet ved bruk av sensitivitet, spesifisitet og presisjon, itillegg til F1-skår og accuracy"
   ]
  },
  {
   "cell_type": "code",
   "execution_count": 10,
   "id": "d06eaac8",
   "metadata": {},
   "outputs": [],
   "source": [
    "# Tren den beste modellen (Random Forest w/ SMOTE)\n",
    "best_model = RandomForestClassifier(random_state=0)\n",
    "best_model.fit(X_train, y_train)\n",
    "\n",
    "# Prediksjoner på testsettet\n",
    "y_pred = best_model.predict(X_test)\n",
    "\n",
    "# Beregn ytelsesmål\n",
    "conf_matrix = confusion_matrix(y_test, y_pred)\n",
    "tn, fp, fn, tp = conf_matrix.ravel()\n",
    "sensitivity = tp / (tp + fn)  # Recall\n",
    "specificity = tn / (tn + fp)\n",
    "precision = precision_score(y_test, y_pred)\n",
    "accuracy = accuracy_score(y_test, y_pred)\n",
    "f1 = f1_score(y_test, y_pred)\n",
    "\n",
    "# Vis resultater\n",
    "print(\"Resultater fra oppgave 2.4:\")\n",
    "print(f\"Sensitivity (Recall): {sensitivity:.3f}\")\n",
    "print(f\"Specificity: {specificity:.3f}\")\n",
    "print(f\"Precision: {precision:.3f}\")\n",
    "print(f\"Accuracy: {accuracy:.3f}\")\n",
    "print(f\"F1 Score: {f1:.3f}\")"
   ]
  },
  {
   "cell_type": "markdown",
   "id": "db86a4bf",
   "metadata": {},
   "source": [
    "#### Oppgave 2.5)\n",
    "Del opp testsettet basert på kjønn og gjør en analyse av sensitivitet, spesifisitet og presisjon for menn og det samme for kvinner. Skriv ut og diskuter resultatet og forsøk å svar på følgende spørsmål:\n",
    "* Er modellen like god for begge kjønn? \n",
    "* Hvis ikke, hva tror du er årsaken og hvilke tiltak kan vi gjøre for å forbedre modellen? "
   ]
  },
  {
   "cell_type": "code",
   "execution_count": 11,
   "id": "7b9e1ad6",
   "metadata": {},
   "outputs": [],
   "source": [
    "if 'Gender' in df.columns:\n",
    "    # Del opp testsettet basert på kjønn\n",
    "    X_test_men = X_test[df.loc[X_test.index, 'Gender'] == 1]\n",
    "    y_test_men = y_test[df.loc[X_test.index, 'Gender'] == 1]\n",
    "    \n",
    "    X_test_women = X_test[df.loc[X_test.index, 'Gender'] == 0]\n",
    "    y_test_women = y_test[df.loc[X_test.index, 'Gender'] == 0]\n",
    "    \n",
    "    # Prediksjoner for menn\n",
    "    y_pred_men = best_model.predict(X_test_men)\n",
    "    conf_matrix_men = confusion_matrix(y_test_men, y_pred_men)\n",
    "    tn_men, fp_men, fn_men, tp_men = conf_matrix_men.ravel()\n",
    "    sensitivity_men = tp_men / (tp_men + fn_men) if (tp_men + fn_men) > 0 else 0\n",
    "    specificity_men = tn_men / (tn_men + fp_men) if (tn_men + fp_men) > 0 else 0\n",
    "    precision_men = precision_score(y_test_men, y_pred_men) if (tp_men + fp_men) > 0 else 0\n",
    "    \n",
    "    # Prediksjoner for kvinner\n",
    "    y_pred_women = best_model.predict(X_test_women)\n",
    "    conf_matrix_women = confusion_matrix(y_test_women, y_pred_women)\n",
    "    tn_women, fp_women, fn_women, tp_women = conf_matrix_women.ravel()\n",
    "    sensitivity_women = tp_women / (tp_women + fn_women) if (tp_women + fn_women) > 0 else 0\n",
    "    specificity_women = tn_women / (tn_women + fp_women) if (tn_women + fp_women) > 0 else 0\n",
    "    precision_women = precision_score(y_test_women, y_pred_women) if (tp_women + fp_women) > 0 else 0\n",
    "    \n",
    "    # Vis resultater\n",
    "    print(\"Resultater for menn:\")\n",
    "    print(f\"Sensitivity (Recall): {sensitivity_men:.3f}\")\n",
    "    print(f\"Specificity: {specificity_men:.3f}\")\n",
    "    print(f\"Precision: {precision_men:.3f}\")\n",
    "    \n",
    "    print(\"\\nResultater for kvinner:\")\n",
    "    print(f\"Sensitivity (Recall): {sensitivity_women:.3f}\")\n",
    "    print(f\"Specificity: {specificity_women:.3f}\")\n",
    "    print(f\"Precision: {precision_women:.3f}\")\n",
    "    \n",
    "    # Diskusjon\n",
    "    print(\"\\nDiskusjon:\")\n",
    "    if sensitivity_men != sensitivity_women or specificity_men != specificity_women or precision_men != precision_women:\n",
    "        print(\"Modellen presterer ulikt for menn og kvinner. Dette kan skyldes:\")\n",
    "        print(\"- Ubalanse i datasettet mellom kjønnene.\")\n",
    "        print(\"- At kjønnsvariabelen påvirker modellens evne til å lære riktig mønster.\")\n",
    "        print(\"\\nTiltak for forbedring inkluderer:\")\n",
    "        print(\"- Bruke balanserte datasett for trening.\")\n",
    "        print(\"- Utføre separate treningsmodeller for hvert kjønn.\")\n",
    "        print(\"- Analysere ytterligere feilkilder i dataene.\")\n",
    "else:\n",
    "    print(\"Datasettet mangler en 'Gender'-kolonne. Kan ikke utføre kjønnsbasert analyse.\")"
   ]
  },
  {
   "cell_type": "markdown",
   "id": "15a8385d",
   "metadata": {},
   "source": [
    "Kjør denne cellen til slutt og legg ved den genererte requirements.txt fila i pull requestet"
   ]
  },
  {
   "cell_type": "code",
   "execution_count": 12,
   "id": "8e3ef598",
   "metadata": {},
   "outputs": [],
   "source": [
    "#!pip freeze > requirements.txt"
   ]
  }
 ],
 "metadata": {
  "kernelspec": {
   "display_name": "Python 3 (ipykernel)",
   "language": "python",
   "name": "python3"
  },
  "language_info": {
   "codemirror_mode": {
    "name": "ipython",
    "version": 3
   },
   "file_extension": ".py",
   "mimetype": "text/x-python",
   "name": "python",
   "nbconvert_exporter": "python",
   "pygments_lexer": "ipython3",
   "version": "3.8.5"
  }
 },
 "nbformat": 4,
 "nbformat_minor": 5
}
